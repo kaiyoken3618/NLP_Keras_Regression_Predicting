{
  "nbformat": 4,
  "nbformat_minor": 0,
  "metadata": {
    "colab": {
      "name": "NLP_Keras_Regression.ipynb",
      "provenance": [],
      "collapsed_sections": [],
      "authorship_tag": "ABX9TyOd4GT73CZNvfqfMFBG6rgo",
      "include_colab_link": true
    },
    "kernelspec": {
      "name": "python3",
      "display_name": "Python 3"
    },
    "language_info": {
      "name": "python"
    }
  },
  "cells": [
    {
      "cell_type": "markdown",
      "metadata": {
        "id": "view-in-github",
        "colab_type": "text"
      },
      "source": [
        "<a href=\"https://colab.research.google.com/github/kaiyoken3618/NLP_Keras_Regression_Predicting/blob/main/NLP_Keras_Regression.ipynb\" target=\"_parent\"><img src=\"https://colab.research.google.com/assets/colab-badge.svg\" alt=\"Open In Colab\"/></a>"
      ]
    },
    {
      "cell_type": "markdown",
      "metadata": {
        "id": "t8W04TQKh47d"
      },
      "source": [
        "Google Drive Connect for dataset reading from drive"
      ]
    },
    {
      "cell_type": "code",
      "metadata": {
        "colab": {
          "base_uri": "https://localhost:8080/"
        },
        "id": "xggyAFV1h-st",
        "outputId": "33172ce8-b0b1-4a3d-d4fa-addd55b5018f"
      },
      "source": [
        "from google.colab import drive\n",
        "drive.mount(\"/content/gdrive\")"
      ],
      "execution_count": 1,
      "outputs": [
        {
          "output_type": "stream",
          "text": [
            "Mounted at /content/gdrive\n"
          ],
          "name": "stdout"
        }
      ]
    },
    {
      "cell_type": "markdown",
      "metadata": {
        "id": "nIH_mpqWiQIT"
      },
      "source": [
        "Dataset Reading using Pandas"
      ]
    },
    {
      "cell_type": "code",
      "metadata": {
        "colab": {
          "base_uri": "https://localhost:8080/",
          "height": 198
        },
        "id": "8EwxLbRaiSa9",
        "outputId": "f28a85e2-ee3a-434f-edcf-96eed49c184e"
      },
      "source": [
        "import pandas as pd\n",
        "#read in data using pandas\n",
        "train_df = pd.read_csv(\"/content/gdrive/MyDrive/data/hourly_wages_data.csv\")\n",
        "#check data has been read in properly \n",
        "# .head() uses for first n rows display by default which is 5.\n",
        "train_df.head() "
      ],
      "execution_count": 22,
      "outputs": [
        {
          "output_type": "execute_result",
          "data": {
            "text/html": [
              "<div>\n",
              "<style scoped>\n",
              "    .dataframe tbody tr th:only-of-type {\n",
              "        vertical-align: middle;\n",
              "    }\n",
              "\n",
              "    .dataframe tbody tr th {\n",
              "        vertical-align: top;\n",
              "    }\n",
              "\n",
              "    .dataframe thead th {\n",
              "        text-align: right;\n",
              "    }\n",
              "</style>\n",
              "<table border=\"1\" class=\"dataframe\">\n",
              "  <thead>\n",
              "    <tr style=\"text-align: right;\">\n",
              "      <th></th>\n",
              "      <th>wage_per_hour</th>\n",
              "      <th>union</th>\n",
              "      <th>education_yrs</th>\n",
              "      <th>experience_yrs</th>\n",
              "      <th>age</th>\n",
              "      <th>female</th>\n",
              "      <th>marr</th>\n",
              "      <th>south</th>\n",
              "      <th>manufacturing</th>\n",
              "      <th>construction</th>\n",
              "    </tr>\n",
              "  </thead>\n",
              "  <tbody>\n",
              "    <tr>\n",
              "      <th>0</th>\n",
              "      <td>5.10</td>\n",
              "      <td>0</td>\n",
              "      <td>8</td>\n",
              "      <td>21</td>\n",
              "      <td>35</td>\n",
              "      <td>1</td>\n",
              "      <td>1</td>\n",
              "      <td>0</td>\n",
              "      <td>1</td>\n",
              "      <td>0</td>\n",
              "    </tr>\n",
              "    <tr>\n",
              "      <th>1</th>\n",
              "      <td>4.95</td>\n",
              "      <td>0</td>\n",
              "      <td>9</td>\n",
              "      <td>42</td>\n",
              "      <td>57</td>\n",
              "      <td>1</td>\n",
              "      <td>1</td>\n",
              "      <td>0</td>\n",
              "      <td>1</td>\n",
              "      <td>0</td>\n",
              "    </tr>\n",
              "    <tr>\n",
              "      <th>2</th>\n",
              "      <td>6.67</td>\n",
              "      <td>0</td>\n",
              "      <td>12</td>\n",
              "      <td>1</td>\n",
              "      <td>19</td>\n",
              "      <td>0</td>\n",
              "      <td>0</td>\n",
              "      <td>0</td>\n",
              "      <td>1</td>\n",
              "      <td>0</td>\n",
              "    </tr>\n",
              "    <tr>\n",
              "      <th>3</th>\n",
              "      <td>4.00</td>\n",
              "      <td>0</td>\n",
              "      <td>12</td>\n",
              "      <td>4</td>\n",
              "      <td>22</td>\n",
              "      <td>0</td>\n",
              "      <td>0</td>\n",
              "      <td>0</td>\n",
              "      <td>0</td>\n",
              "      <td>0</td>\n",
              "    </tr>\n",
              "    <tr>\n",
              "      <th>4</th>\n",
              "      <td>7.50</td>\n",
              "      <td>0</td>\n",
              "      <td>12</td>\n",
              "      <td>17</td>\n",
              "      <td>35</td>\n",
              "      <td>0</td>\n",
              "      <td>1</td>\n",
              "      <td>0</td>\n",
              "      <td>0</td>\n",
              "      <td>0</td>\n",
              "    </tr>\n",
              "  </tbody>\n",
              "</table>\n",
              "</div>"
            ],
            "text/plain": [
              "   wage_per_hour  union  education_yrs  ...  south  manufacturing  construction\n",
              "0           5.10      0              8  ...      0              1             0\n",
              "1           4.95      0              9  ...      0              1             0\n",
              "2           6.67      0             12  ...      0              1             0\n",
              "3           4.00      0             12  ...      0              0             0\n",
              "4           7.50      0             12  ...      0              0             0\n",
              "\n",
              "[5 rows x 10 columns]"
            ]
          },
          "metadata": {
            "tags": []
          },
          "execution_count": 22
        }
      ]
    },
    {
      "cell_type": "markdown",
      "metadata": {
        "id": "g-2RdJB-kZ-q"
      },
      "source": [
        "Split up the dataset into inputs and targets"
      ]
    },
    {
      "cell_type": "code",
      "metadata": {
        "colab": {
          "base_uri": "https://localhost:8080/",
          "height": 198
        },
        "id": "ODfxW-EZkach",
        "outputId": "3dbc8e5b-6099-4cfe-9a72-3442c1f6e123"
      },
      "source": [
        "#create a dataframe with all training data except the target column\n",
        "train_X = train_df.drop(columns=['wage_per_hour'])\n",
        "\n",
        "#check that the target variable has been removed\n",
        "train_X.head()"
      ],
      "execution_count": 14,
      "outputs": [
        {
          "output_type": "execute_result",
          "data": {
            "text/html": [
              "<div>\n",
              "<style scoped>\n",
              "    .dataframe tbody tr th:only-of-type {\n",
              "        vertical-align: middle;\n",
              "    }\n",
              "\n",
              "    .dataframe tbody tr th {\n",
              "        vertical-align: top;\n",
              "    }\n",
              "\n",
              "    .dataframe thead th {\n",
              "        text-align: right;\n",
              "    }\n",
              "</style>\n",
              "<table border=\"1\" class=\"dataframe\">\n",
              "  <thead>\n",
              "    <tr style=\"text-align: right;\">\n",
              "      <th></th>\n",
              "      <th>union</th>\n",
              "      <th>education_yrs</th>\n",
              "      <th>experience_yrs</th>\n",
              "      <th>age</th>\n",
              "      <th>female</th>\n",
              "      <th>marr</th>\n",
              "      <th>south</th>\n",
              "      <th>manufacturing</th>\n",
              "      <th>construction</th>\n",
              "    </tr>\n",
              "  </thead>\n",
              "  <tbody>\n",
              "    <tr>\n",
              "      <th>0</th>\n",
              "      <td>0</td>\n",
              "      <td>8</td>\n",
              "      <td>21</td>\n",
              "      <td>35</td>\n",
              "      <td>1</td>\n",
              "      <td>1</td>\n",
              "      <td>0</td>\n",
              "      <td>1</td>\n",
              "      <td>0</td>\n",
              "    </tr>\n",
              "    <tr>\n",
              "      <th>1</th>\n",
              "      <td>0</td>\n",
              "      <td>9</td>\n",
              "      <td>42</td>\n",
              "      <td>57</td>\n",
              "      <td>1</td>\n",
              "      <td>1</td>\n",
              "      <td>0</td>\n",
              "      <td>1</td>\n",
              "      <td>0</td>\n",
              "    </tr>\n",
              "    <tr>\n",
              "      <th>2</th>\n",
              "      <td>0</td>\n",
              "      <td>12</td>\n",
              "      <td>1</td>\n",
              "      <td>19</td>\n",
              "      <td>0</td>\n",
              "      <td>0</td>\n",
              "      <td>0</td>\n",
              "      <td>1</td>\n",
              "      <td>0</td>\n",
              "    </tr>\n",
              "    <tr>\n",
              "      <th>3</th>\n",
              "      <td>0</td>\n",
              "      <td>12</td>\n",
              "      <td>4</td>\n",
              "      <td>22</td>\n",
              "      <td>0</td>\n",
              "      <td>0</td>\n",
              "      <td>0</td>\n",
              "      <td>0</td>\n",
              "      <td>0</td>\n",
              "    </tr>\n",
              "    <tr>\n",
              "      <th>4</th>\n",
              "      <td>0</td>\n",
              "      <td>12</td>\n",
              "      <td>17</td>\n",
              "      <td>35</td>\n",
              "      <td>0</td>\n",
              "      <td>1</td>\n",
              "      <td>0</td>\n",
              "      <td>0</td>\n",
              "      <td>0</td>\n",
              "    </tr>\n",
              "  </tbody>\n",
              "</table>\n",
              "</div>"
            ],
            "text/plain": [
              "   union  education_yrs  experience_yrs  ...  south  manufacturing  construction\n",
              "0      0              8              21  ...      0              1             0\n",
              "1      0              9              42  ...      0              1             0\n",
              "2      0             12               1  ...      0              1             0\n",
              "3      0             12               4  ...      0              0             0\n",
              "4      0             12              17  ...      0              0             0\n",
              "\n",
              "[5 rows x 9 columns]"
            ]
          },
          "metadata": {
            "tags": []
          },
          "execution_count": 14
        }
      ]
    },
    {
      "cell_type": "markdown",
      "metadata": {
        "id": "_stKhcp8nKhe"
      },
      "source": [
        "Insert the column ‘wage_per_hour’ into our target variable"
      ]
    },
    {
      "cell_type": "code",
      "metadata": {
        "colab": {
          "base_uri": "https://localhost:8080/",
          "height": 198
        },
        "id": "pMfTpXwRnL3u",
        "outputId": "b33fea15-e4ca-4dea-fded-8e2b60b166e5"
      },
      "source": [
        "#create a dataframe with only the target column\n",
        "train_y = train_df[['wage_per_hour']]\n",
        "\n",
        "#view dataframe\n",
        "train_y.head()"
      ],
      "execution_count": 15,
      "outputs": [
        {
          "output_type": "execute_result",
          "data": {
            "text/html": [
              "<div>\n",
              "<style scoped>\n",
              "    .dataframe tbody tr th:only-of-type {\n",
              "        vertical-align: middle;\n",
              "    }\n",
              "\n",
              "    .dataframe tbody tr th {\n",
              "        vertical-align: top;\n",
              "    }\n",
              "\n",
              "    .dataframe thead th {\n",
              "        text-align: right;\n",
              "    }\n",
              "</style>\n",
              "<table border=\"1\" class=\"dataframe\">\n",
              "  <thead>\n",
              "    <tr style=\"text-align: right;\">\n",
              "      <th></th>\n",
              "      <th>wage_per_hour</th>\n",
              "    </tr>\n",
              "  </thead>\n",
              "  <tbody>\n",
              "    <tr>\n",
              "      <th>0</th>\n",
              "      <td>5.10</td>\n",
              "    </tr>\n",
              "    <tr>\n",
              "      <th>1</th>\n",
              "      <td>4.95</td>\n",
              "    </tr>\n",
              "    <tr>\n",
              "      <th>2</th>\n",
              "      <td>6.67</td>\n",
              "    </tr>\n",
              "    <tr>\n",
              "      <th>3</th>\n",
              "      <td>4.00</td>\n",
              "    </tr>\n",
              "    <tr>\n",
              "      <th>4</th>\n",
              "      <td>7.50</td>\n",
              "    </tr>\n",
              "  </tbody>\n",
              "</table>\n",
              "</div>"
            ],
            "text/plain": [
              "   wage_per_hour\n",
              "0           5.10\n",
              "1           4.95\n",
              "2           6.67\n",
              "3           4.00\n",
              "4           7.50"
            ]
          },
          "metadata": {
            "tags": []
          },
          "execution_count": 15
        }
      ]
    },
    {
      "cell_type": "markdown",
      "metadata": {
        "id": "wBPmmDMVoGtg"
      },
      "source": [
        "Building the Model"
      ]
    },
    {
      "cell_type": "code",
      "metadata": {
        "id": "LOpDnntfoI5A"
      },
      "source": [
        "from keras.models import Sequential\n",
        "from keras.layers import Dense\n",
        "#create model\n",
        "model = Sequential()\n",
        "\n",
        "#get number of columns in training data\n",
        "n_cols = train_X.shape[1]\n",
        "\n",
        "#add model layers\n",
        "model.add(Dense(10, activation='relu', input_shape=(n_cols,)))\n",
        "model.add(Dense(10, activation='relu'))\n",
        "model.add(Dense(1))"
      ],
      "execution_count": 16,
      "outputs": []
    },
    {
      "cell_type": "markdown",
      "metadata": {
        "id": "HG7zb1BNomts"
      },
      "source": [
        "Compiling the Model"
      ]
    },
    {
      "cell_type": "code",
      "metadata": {
        "id": "rb5X9-ppooxY"
      },
      "source": [
        "model.compile(optimizer='adam', loss='mean_squared_error')"
      ],
      "execution_count": 17,
      "outputs": []
    },
    {
      "cell_type": "markdown",
      "metadata": {
        "id": "X3r8hj2Eo-X4"
      },
      "source": [
        "Training"
      ]
    },
    {
      "cell_type": "code",
      "metadata": {
        "colab": {
          "base_uri": "https://localhost:8080/"
        },
        "id": "y63Qc0Fwo_Tv",
        "outputId": "a7ed287a-731c-4fc6-ff7c-edf4e2fcaf0f"
      },
      "source": [
        "from keras.callbacks import EarlyStopping\n",
        "#set early stopping monitor so the model stops training when it won't improve anymore\n",
        "early_stopping_monitor = EarlyStopping(patience=3)\n",
        "#train model\n",
        "model.fit(train_X, train_y, validation_split=0.2, epochs=30, callbacks=[early_stopping_monitor])"
      ],
      "execution_count": 18,
      "outputs": [
        {
          "output_type": "stream",
          "text": [
            "Epoch 1/30\n",
            "14/14 [==============================] - 1s 38ms/step - loss: 65.8652 - val_loss: 131.0856\n",
            "Epoch 2/30\n",
            "14/14 [==============================] - 0s 6ms/step - loss: 51.7163 - val_loss: 109.4076\n",
            "Epoch 3/30\n",
            "14/14 [==============================] - 0s 5ms/step - loss: 38.0276 - val_loss: 91.0306\n",
            "Epoch 4/30\n",
            "14/14 [==============================] - 0s 7ms/step - loss: 36.1776 - val_loss: 77.6764\n",
            "Epoch 5/30\n",
            "14/14 [==============================] - 0s 6ms/step - loss: 33.1510 - val_loss: 69.5282\n",
            "Epoch 6/30\n",
            "14/14 [==============================] - 0s 6ms/step - loss: 35.8629 - val_loss: 64.4663\n",
            "Epoch 7/30\n",
            "14/14 [==============================] - 0s 6ms/step - loss: 26.7678 - val_loss: 62.7326\n",
            "Epoch 8/30\n",
            "14/14 [==============================] - 0s 7ms/step - loss: 32.9124 - val_loss: 60.5195\n",
            "Epoch 9/30\n",
            "14/14 [==============================] - 0s 6ms/step - loss: 31.4804 - val_loss: 58.3235\n",
            "Epoch 10/30\n",
            "14/14 [==============================] - 0s 6ms/step - loss: 27.5624 - val_loss: 57.4584\n",
            "Epoch 11/30\n",
            "14/14 [==============================] - 0s 6ms/step - loss: 38.6298 - val_loss: 55.9129\n",
            "Epoch 12/30\n",
            "14/14 [==============================] - 0s 6ms/step - loss: 26.1107 - val_loss: 55.1140\n",
            "Epoch 13/30\n",
            "14/14 [==============================] - 0s 5ms/step - loss: 28.3892 - val_loss: 53.2840\n",
            "Epoch 14/30\n",
            "14/14 [==============================] - 0s 6ms/step - loss: 39.4473 - val_loss: 52.8066\n",
            "Epoch 15/30\n",
            "14/14 [==============================] - 0s 6ms/step - loss: 31.4373 - val_loss: 52.3121\n",
            "Epoch 16/30\n",
            "14/14 [==============================] - 0s 5ms/step - loss: 19.5165 - val_loss: 51.7283\n",
            "Epoch 17/30\n",
            "14/14 [==============================] - 0s 6ms/step - loss: 21.2500 - val_loss: 49.6244\n",
            "Epoch 18/30\n",
            "14/14 [==============================] - 0s 7ms/step - loss: 28.9994 - val_loss: 48.6304\n",
            "Epoch 19/30\n",
            "14/14 [==============================] - 0s 6ms/step - loss: 21.0728 - val_loss: 49.7043\n",
            "Epoch 20/30\n",
            "14/14 [==============================] - 0s 6ms/step - loss: 22.1953 - val_loss: 48.7813\n",
            "Epoch 21/30\n",
            "14/14 [==============================] - 0s 6ms/step - loss: 25.0502 - val_loss: 47.2424\n",
            "Epoch 22/30\n",
            "14/14 [==============================] - 0s 6ms/step - loss: 23.7488 - val_loss: 46.4114\n",
            "Epoch 23/30\n",
            "14/14 [==============================] - 0s 6ms/step - loss: 19.7223 - val_loss: 44.9969\n",
            "Epoch 24/30\n",
            "14/14 [==============================] - 0s 5ms/step - loss: 28.3800 - val_loss: 44.8505\n",
            "Epoch 25/30\n",
            "14/14 [==============================] - 0s 5ms/step - loss: 21.2342 - val_loss: 44.3983\n",
            "Epoch 26/30\n",
            "14/14 [==============================] - 0s 5ms/step - loss: 21.2376 - val_loss: 43.2017\n",
            "Epoch 27/30\n",
            "14/14 [==============================] - 0s 6ms/step - loss: 19.8997 - val_loss: 42.8701\n",
            "Epoch 28/30\n",
            "14/14 [==============================] - 0s 5ms/step - loss: 22.2339 - val_loss: 40.3654\n",
            "Epoch 29/30\n",
            "14/14 [==============================] - 0s 5ms/step - loss: 21.0670 - val_loss: 40.2666\n",
            "Epoch 30/30\n",
            "14/14 [==============================] - 0s 5ms/step - loss: 21.5332 - val_loss: 40.0396\n"
          ],
          "name": "stdout"
        },
        {
          "output_type": "execute_result",
          "data": {
            "text/plain": [
              "<tensorflow.python.keras.callbacks.History at 0x7faca5e8f750>"
            ]
          },
          "metadata": {
            "tags": []
          },
          "execution_count": 18
        }
      ]
    },
    {
      "cell_type": "markdown",
      "metadata": {
        "id": "Hb81s5H3rggP"
      },
      "source": [
        "Prediction on testdata"
      ]
    },
    {
      "cell_type": "markdown",
      "metadata": {
        "id": "f6MRnh6GsYWL"
      },
      "source": [
        "Demo testdata to predict (Created file and tested can ignore)"
      ]
    },
    {
      "cell_type": "code",
      "metadata": {
        "id": "FrUgWSVUsclr"
      },
      "source": [
        "test_x = pd.read_csv(\"/content/gdrive/MyDrive/data/test.csv\")"
      ],
      "execution_count": 25,
      "outputs": []
    },
    {
      "cell_type": "markdown",
      "metadata": {
        "id": "DpHaIHtAv6hp"
      },
      "source": [
        "Manually taking input test data"
      ]
    },
    {
      "cell_type": "code",
      "metadata": {
        "colab": {
          "base_uri": "https://localhost:8080/",
          "height": 78
        },
        "id": "hcXv4TQvv5G9",
        "outputId": "5ac969d5-d675-4892-ba5e-d416e0e13c6d"
      },
      "source": [
        "d = {'union': [0], 'education_yrs': [8],'experience_yrs': [21],'age': [35],'female': [1],'marr': [1],'south': [0],'manufacturing': [1],'construction': [0]} \n",
        "df = pd.DataFrame(data=d) \n",
        "df"
      ],
      "execution_count": 32,
      "outputs": [
        {
          "output_type": "execute_result",
          "data": {
            "text/html": [
              "<div>\n",
              "<style scoped>\n",
              "    .dataframe tbody tr th:only-of-type {\n",
              "        vertical-align: middle;\n",
              "    }\n",
              "\n",
              "    .dataframe tbody tr th {\n",
              "        vertical-align: top;\n",
              "    }\n",
              "\n",
              "    .dataframe thead th {\n",
              "        text-align: right;\n",
              "    }\n",
              "</style>\n",
              "<table border=\"1\" class=\"dataframe\">\n",
              "  <thead>\n",
              "    <tr style=\"text-align: right;\">\n",
              "      <th></th>\n",
              "      <th>union</th>\n",
              "      <th>education_yrs</th>\n",
              "      <th>experience_yrs</th>\n",
              "      <th>age</th>\n",
              "      <th>female</th>\n",
              "      <th>marr</th>\n",
              "      <th>south</th>\n",
              "      <th>manufacturing</th>\n",
              "      <th>construction</th>\n",
              "    </tr>\n",
              "  </thead>\n",
              "  <tbody>\n",
              "    <tr>\n",
              "      <th>0</th>\n",
              "      <td>0</td>\n",
              "      <td>8</td>\n",
              "      <td>21</td>\n",
              "      <td>35</td>\n",
              "      <td>1</td>\n",
              "      <td>1</td>\n",
              "      <td>0</td>\n",
              "      <td>1</td>\n",
              "      <td>0</td>\n",
              "    </tr>\n",
              "  </tbody>\n",
              "</table>\n",
              "</div>"
            ],
            "text/plain": [
              "   union  education_yrs  experience_yrs  ...  south  manufacturing  construction\n",
              "0      0              8              21  ...      0              1             0\n",
              "\n",
              "[1 rows x 9 columns]"
            ]
          },
          "metadata": {
            "tags": []
          },
          "execution_count": 32
        }
      ]
    },
    {
      "cell_type": "code",
      "metadata": {
        "colab": {
          "base_uri": "https://localhost:8080/"
        },
        "id": "fQnz-w29riX-",
        "outputId": "4bc8f88a-bb55-4e82-e10c-34f5898c1e82"
      },
      "source": [
        "#example on how to use our newly trained model on how to make predictions on unseen data (we will pretend our new data is saved in a dataframe called 'test_X').\n",
        "test_y_predictions = model.predict(df) \n",
        "print(test_y_predictions)"
      ],
      "execution_count": 33,
      "outputs": [
        {
          "output_type": "stream",
          "text": [
            "[[7.3603363]]\n"
          ],
          "name": "stdout"
        }
      ]
    },
    {
      "cell_type": "markdown",
      "metadata": {
        "id": "cQFB7G7fxfZf"
      },
      "source": [
        "Increasing model capacity to improve results"
      ]
    },
    {
      "cell_type": "code",
      "metadata": {
        "colab": {
          "base_uri": "https://localhost:8080/"
        },
        "id": "row9tcokxiGN",
        "outputId": "eab939b4-a2a8-44e4-8da9-510767d1e867"
      },
      "source": [
        "#training a new model on the same data to show the effect of increasing model capacity\n",
        "\n",
        "#create model\n",
        "model_mc = Sequential()\n",
        "\n",
        "#add model layers\n",
        "model_mc.add(Dense(200, activation='relu', input_shape=(n_cols,)))\n",
        "model_mc.add(Dense(200, activation='relu'))\n",
        "model_mc.add(Dense(200, activation='relu'))\n",
        "model_mc.add(Dense(1))\n",
        "\n",
        "#compile model using mse as a measure of model performance\n",
        "model_mc.compile(optimizer='adam', loss='mean_squared_error')\n",
        "#train model\n",
        "model_mc.fit(train_X, train_y, validation_split=0.2, epochs=30, callbacks=[early_stopping_monitor])"
      ],
      "execution_count": 34,
      "outputs": [
        {
          "output_type": "stream",
          "text": [
            "Epoch 1/30\n",
            "14/14 [==============================] - 1s 20ms/step - loss: 39.0608 - val_loss: 46.4279\n",
            "Epoch 2/30\n",
            "14/14 [==============================] - 0s 6ms/step - loss: 20.5049 - val_loss: 30.9684\n",
            "Epoch 3/30\n",
            "14/14 [==============================] - 0s 7ms/step - loss: 20.4433 - val_loss: 33.2070\n",
            "Epoch 4/30\n",
            "14/14 [==============================] - 0s 7ms/step - loss: 23.8466 - val_loss: 31.6639\n",
            "Epoch 5/30\n",
            "14/14 [==============================] - 0s 6ms/step - loss: 16.1177 - val_loss: 28.2657\n",
            "Epoch 6/30\n",
            "14/14 [==============================] - 0s 6ms/step - loss: 17.1340 - val_loss: 29.1271\n",
            "Epoch 7/30\n",
            "14/14 [==============================] - 0s 6ms/step - loss: 17.4222 - val_loss: 27.7423\n",
            "Epoch 8/30\n",
            "14/14 [==============================] - 0s 8ms/step - loss: 27.2003 - val_loss: 33.5859\n",
            "Epoch 9/30\n",
            "14/14 [==============================] - 0s 6ms/step - loss: 14.9622 - val_loss: 33.5128\n",
            "Epoch 10/30\n",
            "14/14 [==============================] - 0s 6ms/step - loss: 17.4788 - val_loss: 31.8676\n"
          ],
          "name": "stdout"
        },
        {
          "output_type": "execute_result",
          "data": {
            "text/plain": [
              "<tensorflow.python.keras.callbacks.History at 0x7fac97d43b10>"
            ]
          },
          "metadata": {
            "tags": []
          },
          "execution_count": 34
        }
      ]
    },
    {
      "cell_type": "markdown",
      "metadata": {
        "id": "TdaQjIghxoeB"
      },
      "source": [
        "Testing on same data"
      ]
    },
    {
      "cell_type": "code",
      "metadata": {
        "colab": {
          "base_uri": "https://localhost:8080/"
        },
        "id": "VZhVa-C_xqEK",
        "outputId": "7136e449-1ff8-4fef-876d-4a57aafb9963"
      },
      "source": [
        "#example on how to use our newly trained model on how to make predictions on unseen data (we will pretend our new data is saved in a dataframe called 'test_X').\n",
        "test_y_predictions = model_mc.predict(df) \n",
        "print(test_y_predictions)"
      ],
      "execution_count": 36,
      "outputs": [
        {
          "output_type": "stream",
          "text": [
            "[[5.5582066]]\n"
          ],
          "name": "stdout"
        }
      ]
    }
  ]
}